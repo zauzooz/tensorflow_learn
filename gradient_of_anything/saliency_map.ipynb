{
 "cells": [
  {
   "cell_type": "code",
   "execution_count": 1,
   "metadata": {},
   "outputs": [
    {
     "name": "stdout",
     "output_type": "stream",
     "text": [
      "Epoch 1/10\n",
      "922/922 [==============================] - 2s 1ms/step - loss: 1.2502 - accuracy: 0.5317 - precision: 0.0000e+00 - recall: 0.0000e+00\n",
      "Epoch 2/10\n",
      "922/922 [==============================] - 2s 2ms/step - loss: 1.0226 - accuracy: 0.5746 - precision: 0.5746 - recall: 0.4250\n",
      "Epoch 3/10\n",
      "922/922 [==============================] - 1s 2ms/step - loss: 0.9960 - accuracy: 0.5746 - precision: 0.5746 - recall: 0.5746\n",
      "Epoch 4/10\n",
      "922/922 [==============================] - 1s 1ms/step - loss: 0.9907 - accuracy: 0.5746 - precision: 0.5746 - recall: 0.5746\n",
      "Epoch 5/10\n",
      "922/922 [==============================] - 2s 2ms/step - loss: 0.9864 - accuracy: 0.5746 - precision: 0.5746 - recall: 0.5746\n",
      "Epoch 6/10\n",
      "922/922 [==============================] - 1s 2ms/step - loss: 0.9830 - accuracy: 0.5746 - precision: 0.5746 - recall: 0.5746\n",
      "Epoch 7/10\n",
      "922/922 [==============================] - 1s 1ms/step - loss: 0.9792 - accuracy: 0.5746 - precision: 0.5746 - recall: 0.5746\n",
      "Epoch 8/10\n",
      "922/922 [==============================] - 1s 1ms/step - loss: 0.9768 - accuracy: 0.5746 - precision: 0.5746 - recall: 0.5746\n",
      "Epoch 9/10\n",
      "922/922 [==============================] - 1s 2ms/step - loss: 0.9752 - accuracy: 0.5746 - precision: 0.5746 - recall: 0.5746\n",
      "Epoch 10/10\n",
      "922/922 [==============================] - 1s 1ms/step - loss: 0.9726 - accuracy: 0.5746 - precision: 0.5746 - recall: 0.5746\n",
      "205/205 [==============================] - 0s 1ms/step - loss: 0.9712 - accuracy: 0.5720 - precision: 0.5720 - recall: 0.5720\n"
     ]
    },
    {
     "data": {
      "text/plain": [
       "[0.9711974263191223,\n",
       " 0.5720170736312866,\n",
       " 0.5720170736312866,\n",
       " 0.5720170736312866]"
      ]
     },
     "execution_count": 1,
     "metadata": {},
     "output_type": "execute_result"
    }
   ],
   "source": [
    "import tensorflow as tf\n",
    "import numpy as np\n",
    "import pandas as pd\n",
    "from sklearn.model_selection import train_test_split\n",
    "df = pd.read_csv(\"log2.csv\")\n",
    "x = df.drop(columns=['Source Port','Destination Port','NAT Source Port','NAT Destination Port','Action'])\n",
    "y = df['Action']\n",
    "N_FEATURES = x.shape[1]\n",
    "y = pd.get_dummies(y)*1\n",
    "N_CLASSES = y.shape[1]\n",
    "x_train, x_test, y_train, y_test = train_test_split(x,y, test_size=0.1)\n",
    "max = x_train.max()\n",
    "min = x_train.min()\n",
    "x_train = (max - x_train) / (max - min)\n",
    "x_test = (max - x_test) / (max - min)\n",
    "dnn = tf.keras.models.Sequential()\n",
    "dnn.add(tf.keras.layers.Dense(5, activation='relu', input_shape=(N_FEATURES,)))\n",
    "dnn.add(tf.keras.layers.Dropout(0.2))\n",
    "dnn.add(tf.keras.layers.Dense(N_CLASSES, activation='softmax'))\n",
    "dnn.compile(loss=tf.keras.losses.CategoricalCrossentropy(),\n",
    "            optimizer=tf.keras.optimizers.Adam(),\n",
    "            metrics=['accuracy',tf.keras.metrics.Precision(), tf.keras.metrics.Recall()])\n",
    "dnn.fit(x=x_train, y=y_train, epochs=10, batch_size=64)\n",
    "dnn.evaluate(x=x_test, y=y_test)"
   ]
  },
  {
   "cell_type": "code",
   "execution_count": 2,
   "metadata": {},
   "outputs": [],
   "source": [
    "# Saliency Map\n",
    "n_instance_test = x_test.shape[0]\n",
    "S = [] # S \\in R^{n_instances \\times n_classes \\times n_features}\n",
    "for i in range(n_instance_test):\n",
    "    s_i = []\n",
    "    x_i = tf.Variable(x_test.values[i].reshape(1,7))\n",
    "    for r in range(N_CLASSES):\n",
    "        with tf.GradientTape() as tape:\n",
    "            tape.watch(x_i)\n",
    "            logits = dnn(x_i)\n",
    "            class_index = r\n",
    "            score_r = logits[:, class_index]\n",
    "            gradient_r = tape.gradient(score_r, x_i)\n",
    "        s_i.append(gradient_r[0].numpy().tolist())\n",
    "    S.append(s_i)\n",
    "S = np.array(S)\n",
    "np.save('saliency_x_test.npy',S)"
   ]
  },
  {
   "cell_type": "code",
   "execution_count": 4,
   "metadata": {},
   "outputs": [],
   "source": [
    "S=np.load('saliency_x_test.npy')"
   ]
  },
  {
   "cell_type": "code",
   "execution_count": 5,
   "metadata": {},
   "outputs": [
    {
     "data": {
      "text/plain": [
       "(6554, 4, 7)"
      ]
     },
     "execution_count": 5,
     "metadata": {},
     "output_type": "execute_result"
    }
   ],
   "source": [
    "S.shape"
   ]
  }
 ],
 "metadata": {
  "kernelspec": {
   "display_name": "Python 3",
   "language": "python",
   "name": "python3"
  },
  "language_info": {
   "codemirror_mode": {
    "name": "ipython",
    "version": 3
   },
   "file_extension": ".py",
   "mimetype": "text/x-python",
   "name": "python",
   "nbconvert_exporter": "python",
   "pygments_lexer": "ipython3",
   "version": "3.11.4"
  },
  "orig_nbformat": 4
 },
 "nbformat": 4,
 "nbformat_minor": 2
}
